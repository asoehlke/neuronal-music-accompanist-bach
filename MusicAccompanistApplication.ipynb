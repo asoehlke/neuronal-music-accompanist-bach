{
 "cells": [
  {
   "cell_type": "code",
   "execution_count": 1,
   "metadata": {
    "collapsed": true
   },
   "outputs": [],
   "source": [
    "from music21 import corpus, stream, note\n",
    "import tensorflow as tf\n",
    "import math\n",
    "import random\n",
    "import functools\n",
    "import numpy as np"
   ]
  },
  {
   "cell_type": "markdown",
   "metadata": {},
   "source": [
    "## some global constants"
   ]
  },
  {
   "cell_type": "code",
   "execution_count": 15,
   "metadata": {
    "collapsed": true
   },
   "outputs": [],
   "source": [
    "# number of voices\n",
    "NUM_VOICES = 4\n",
    "\n",
    "#number of output classes, i.e. half tone differences to melody\n",
    "NUM_CLASSES = 26\n",
    "\n",
    "# duration of time tick in beats. 1=quarter, 0.25=16th \n",
    "TIME_TICK = 0.25\n",
    "\n",
    "# path of the trained model\n",
    "INPUT_MODEL = \"/home/lucky/models/208songsMajorMinor-2\"\n",
    "\n",
    "# minimum and maximum allowed midi key values of the melody\n",
    "MELODY_MIN_PITCH = 59 # C-3\n",
    "MELODY_MAX_PITCH = 83\n",
    "\n",
    "# dir and name of the inference frozen model\n",
    "FROZEN_MODEL_DIR = \"/home/lucky/AnacondaProjects/neuronal-music-accompanist-bach/inference-model\"\n",
    "FROZEN_MODEL_NAME = \"BachAccompanist.pb\""
   ]
  },
  {
   "cell_type": "markdown",
   "metadata": {},
   "source": [
    "## create the inference model, import the trained model and export the inference model"
   ]
  },
  {
   "cell_type": "code",
   "execution_count": 122,
   "metadata": {},
   "outputs": [
    {
     "name": "stdout",
     "output_type": "stream",
     "text": [
      "input shape:  (2,)\n",
      "(1, 1, 27)\n",
      "prediction_voices: (1, 1, 3, 26)\n",
      "output_voices: (3,)\n",
      "prediction_strike: (1, 1, 3, 1)\n",
      "output_strike: (3,)\n",
      "output shape: (6,)\n",
      "INFO:tensorflow:Restoring parameters from /home/lucky/models/208songsMajorMinor-2\n",
      "written model to  /home/lucky/AnacondaProjects/neuronal-music-accompanist-bach/inference-model / BachAccompanist.pb\n"
     ]
    }
   ],
   "source": [
    "  \n",
    "# for state_is_tuple = True, currently does not work with undefined batch size\n",
    "def get_state_variables(batch_size, cell):\n",
    "    # For each layer, get the initial state and make a variable out of it\n",
    "    # to enable updating its value.\n",
    "    state_variables = []\n",
    "    for state_c, state_h in cell.zero_state(batch_size, tf.float32):\n",
    "        state_variables.append(tf.contrib.rnn.LSTMStateTuple(\n",
    "            tf.Variable(state_c, trainable=False, name=\"rnn_state_c_%d\" % (len(state_variables))),\n",
    "            tf.Variable(state_h, trainable=False, name=\"rnn_state_h_%d\" % (len(state_variables)))))\n",
    "    # Return as a tuple, so that it can be fed to dynamic_rnn as an initial state\n",
    "    return tuple(state_variables)\n",
    "\n",
    "\n",
    "def get_state_update_op(state_variables, new_states):\n",
    "    # Add an operation to update the lstm states with the last state tensors\n",
    "    update_ops = []\n",
    "    for state_variable, new_state in zip(state_variables, new_states):\n",
    "        # Assign the new state to the state variables on this layer\n",
    "        update_ops.extend([state_variable[0].assign(new_state[0]),\n",
    "                           state_variable[1].assign(new_state[1])])\n",
    "    # Return a tuple in order to combine all update_ops into a single operation.\n",
    "    # The tuple's actual value should not be used.\n",
    "    return tf.tuple(update_ops, name = \"state_update\")\n",
    "\n",
    "def lazy_property(function):\n",
    "    attribute = '_' + function.__name__\n",
    "\n",
    "    @property\n",
    "    @functools.wraps(function)\n",
    "    def wrapper(self):\n",
    "        if not hasattr(self, attribute):\n",
    "            setattr(self, attribute, function(self))\n",
    "        return getattr(self, attribute)\n",
    "    return wrapper\n",
    "\n",
    "\n",
    "class SequenceLabelling:\n",
    "\n",
    "    # data[0]: midi note key, data[1]: 1 for strike, 0 for sustain note\n",
    "    def __init__(self, data, seq_length=1, num_hidden=200, num_layers=1, NUM_VOICES = 4):\n",
    "        self.data = data\n",
    "        self._num_hidden = num_hidden\n",
    "        self._num_layers = num_layers\n",
    "        self.seq_length = seq_length\n",
    "        self.output\n",
    "        self.update_state\n",
    "        self.rnn_input\n",
    "        self.prediction\n",
    "\n",
    "    @lazy_property\n",
    "    def output(self):\n",
    "        length = 1\n",
    "        input_size = NUM_CLASSES + 1\n",
    "        data_float = tf.cast(data, dtype=tf.float32)\n",
    "        one_hot = tf.one_hot(data[0] - MELODY_MIN_PITCH, NUM_CLASSES, on_value=1., off_value=0., dtype=tf.float32)\n",
    "        rnn_input = tf.reshape(tf.concat([one_hot, [data_float[1]]], 0), [1, 1, NUM_CLASSES + 1])\n",
    "        print(rnn_input.shape)\n",
    "        self.rnn_input = rnn_input\n",
    "        \n",
    "        # Recurrent network.\n",
    "        cells = []\n",
    "        for layer in range (0, self._num_layers):\n",
    "            #cells.append(tf.nn.rnn_cell.BasicLSTMCell(self._num_hidden, state_is_tuple = True)) # or GRUCell)\n",
    "            cells.append(tf.nn.rnn_cell.LSTMCell(self._num_hidden, state_is_tuple = True, use_peepholes=True))\n",
    "        \n",
    "        network = tf.contrib.rnn.MultiRNNCell(cells, state_is_tuple = True)\n",
    "        #network = tf.contrib.rnn.GRUCell(self._num_hidden)\n",
    "        \n",
    "        # if state_is_tuple = True, does only work with defined batch size\n",
    "        state = get_state_variables(rnn_input.shape[0], network)\n",
    "\n",
    "        output, new_state = tf.nn.dynamic_rnn(network, rnn_input, dtype=tf.float32, initial_state = state)\n",
    "        \n",
    "        # Softmax layer for voices\n",
    "        weight, bias = self._weight_and_bias(self._num_hidden, NUM_CLASSES * (NUM_VOICES - 1))\n",
    "        # Flatten to apply same weights to all time steps.\n",
    "        output = tf.reshape(output, [-1, self._num_hidden])\n",
    "        prediction_voices = tf.matmul(output, weight) + bias\n",
    "        prediction_voices = tf.nn.softmax(tf.reshape(prediction_voices, [-1, 1, (NUM_VOICES - 1), NUM_CLASSES]))\n",
    "        print(\"prediction_voices:\", prediction_voices.shape)\n",
    "        \n",
    "        # extract best prediction per voice\n",
    "        output_voices = tf.cast(tf.reshape(tf.argmax(prediction_voices, axis = 3), [-1]), dtype=tf.float32)\n",
    "        # convert the difference value to MIDI note key\n",
    "        output_voices = tf.add(-output_voices, data_float[0])\n",
    "        print(\"output_voices:\", output_voices.shape)\n",
    "        \n",
    "        # strike layer for voices: 1 \n",
    "        weight, bias = self._weight_and_bias(self._num_hidden, NUM_VOICES - 1)\n",
    "        prediction_strike = tf.sigmoid(tf.reshape(tf.matmul(output, weight) + bias, [-1, self.seq_length, NUM_VOICES - 1, 1]))\n",
    "        print(\"prediction_strike:\", prediction_strike.shape)\n",
    "        output_strike = tf.reshape(prediction_strike, [-1])\n",
    "        print(\"output_strike:\", output_strike.shape)\n",
    "        \n",
    "        \n",
    "        self.prediction = tf.concat(axis = 3, values = [prediction_voices, prediction_strike], name = \"prediction\")\n",
    "        output = tf.concat(axis = 0, values = [output_voices, output_strike], name = \"output\")\n",
    "        \n",
    "        \n",
    "        # output is (NUM_VOICES -1) MIDI note key and (NUM_VOICES -1) strike/sustain probabilities\n",
    "        print(\"output shape:\", output.shape)\n",
    "        \n",
    "        \n",
    "        \n",
    "        # Add an operation to update the lstm states with the last state tensors.\n",
    "        self.update_state = get_state_update_op(state, new_state)\n",
    "        \n",
    "        return output\n",
    "\n",
    "    @staticmethod\n",
    "    def _weight_and_bias(in_size, out_size):\n",
    "        weight = tf.truncated_normal([in_size, out_size], stddev=0.01)\n",
    "        bias = tf.constant(0.1, shape=[out_size])\n",
    "        return tf.Variable(weight), tf.Variable(bias)\n",
    "\n",
    "# Create new graph and export\n",
    "g = tf.Graph()\n",
    "with g.as_default():\n",
    "    length = 1\n",
    "    input_size = NUM_CLASSES + 1\n",
    "    data = tf.placeholder(tf.int32, [2], name=\"input\")\n",
    "    print(\"input shape: \", data.shape)\n",
    "    model = SequenceLabelling(data, num_hidden = 300, num_layers=3)\n",
    "    sess = tf.Session()\n",
    "    sess.run(tf.global_variables_initializer())\n",
    "    \n",
    "    # import the weights\n",
    "    train_saver = tf.train.Saver(tf.trainable_variables())\n",
    "    train_saver.restore(sess, INPUT_MODEL)\n",
    "\n",
    "    # export as frozen graph\n",
    "    graph_def = g.as_graph_def()\n",
    "    tf.train.write_graph(graph_def, FROZEN_MODEL_DIR, \\\n",
    "        FROZEN_MODEL_NAME, as_text=False)\n",
    "    print(\"written model to \", FROZEN_MODEL_DIR, \"/\", FROZEN_MODEL_NAME)"
   ]
  },
  {
   "cell_type": "code",
   "execution_count": 26,
   "metadata": {},
   "outputs": [
    {
     "name": "stdout",
     "output_type": "stream",
     "text": [
      "[name: \"input\"\n",
      "op: \"Placeholder\"\n",
      "attr {\n",
      "  key: \"dtype\"\n",
      "  value {\n",
      "    type: DT_INT32\n",
      "  }\n",
      "}\n",
      "attr {\n",
      "  key: \"shape\"\n",
      "  value {\n",
      "    shape {\n",
      "      dim {\n",
      "        size: 2\n",
      "      }\n",
      "    }\n",
      "  }\n",
      "}\n",
      "]\n",
      "[name: \"prediction/axis\"\n",
      "op: \"Const\"\n",
      "attr {\n",
      "  key: \"dtype\"\n",
      "  value {\n",
      "    type: DT_INT32\n",
      "  }\n",
      "}\n",
      "attr {\n",
      "  key: \"value\"\n",
      "  value {\n",
      "    tensor {\n",
      "      dtype: DT_INT32\n",
      "      tensor_shape {\n",
      "      }\n",
      "      int_val: 3\n",
      "    }\n",
      "  }\n",
      "}\n",
      ", name: \"prediction\"\n",
      "op: \"ConcatV2\"\n",
      "input: \"Reshape_4\"\n",
      "input: \"Sigmoid\"\n",
      "input: \"prediction/axis\"\n",
      "attr {\n",
      "  key: \"N\"\n",
      "  value {\n",
      "    i: 2\n",
      "  }\n",
      "}\n",
      "attr {\n",
      "  key: \"T\"\n",
      "  value {\n",
      "    type: DT_FLOAT\n",
      "  }\n",
      "}\n",
      "attr {\n",
      "  key: \"Tidx\"\n",
      "  value {\n",
      "    type: DT_INT32\n",
      "  }\n",
      "}\n",
      "]\n",
      "[name: \"output/axis\"\n",
      "op: \"Const\"\n",
      "attr {\n",
      "  key: \"dtype\"\n",
      "  value {\n",
      "    type: DT_INT32\n",
      "  }\n",
      "}\n",
      "attr {\n",
      "  key: \"value\"\n",
      "  value {\n",
      "    tensor {\n",
      "      dtype: DT_INT32\n",
      "      tensor_shape {\n",
      "      }\n",
      "      int_val: 0\n",
      "    }\n",
      "  }\n",
      "}\n",
      ", name: \"output\"\n",
      "op: \"ConcatV2\"\n",
      "input: \"Cast\"\n",
      "input: \"Reshape_7\"\n",
      "input: \"output/axis\"\n",
      "attr {\n",
      "  key: \"N\"\n",
      "  value {\n",
      "    i: 2\n",
      "  }\n",
      "}\n",
      "attr {\n",
      "  key: \"T\"\n",
      "  value {\n",
      "    type: DT_FLOAT\n",
      "  }\n",
      "}\n",
      "attr {\n",
      "  key: \"Tidx\"\n",
      "  value {\n",
      "    type: DT_INT32\n",
      "  }\n",
      "}\n",
      "]\n"
     ]
    }
   ],
   "source": [
    "# read and test the model\n",
    "g = tf.GraphDef()\n",
    "g.ParseFromString(open(FROZEN_MODEL_DIR + \"/\" + FROZEN_MODEL_NAME, \"rb\").read())\n",
    "\n",
    "print([n for n in g.node if n.name.find(\"input\") != -1])\n",
    "print([n for n in g.node if n.name.find(\"prediction\") != -1])\n",
    "print([n for n in g.node if n.name.find(\"output\") != -1])"
   ]
  },
  {
   "cell_type": "markdown",
   "metadata": {},
   "source": [
    "\n",
    "## Apply the inference model\n",
    "get a choral from the music21 Bach library and input the melody notes one by one to the rnn.\n"
   ]
  },
  {
   "cell_type": "code",
   "execution_count": 27,
   "metadata": {
    "collapsed": true
   },
   "outputs": [],
   "source": [
    "def extractMelody(music):\n",
    "    min_midi = 256\n",
    "    max_midi = 0\n",
    "    melody = []\n",
    "    currentOffset = 0\n",
    "    for n in music.parts[0].flat.notes:\n",
    "        #print(\"%s: %s %s %s\" % (n.pitch.midi, n.pitch, n.offset, n.duration.quarterLength))\n",
    "        while (n.offset > currentOffset):\n",
    "            # insert breaks\n",
    "            melody.append([currentOffset, 0, 1])\n",
    "            currentOffset += TIME_TICK;\n",
    "        noteTicks = math.floor(n.duration.quarterLength / TIME_TICK)\n",
    "        min_midi = min(min_midi, n.pitch.midi)\n",
    "        max_midi = max(max_midi, n.pitch.midi)\n",
    "        for ticks in range(0, noteTicks):\n",
    "            if (ticks == 0):\n",
    "                melody.append([currentOffset, n.pitch.midi, 1])\n",
    "            else:\n",
    "                melody.append([currentOffset, n.pitch.midi, 0])\n",
    "            currentOffset += TIME_TICK;\n",
    "    #print(\"Melody min/max midi pitch: %d/%d\" % (min_midi, max_midi))\n",
    "    return melody"
   ]
  },
  {
   "cell_type": "code",
   "execution_count": 28,
   "metadata": {
    "collapsed": true
   },
   "outputs": [],
   "source": [
    "# calculate difference between melody and voice in halftones. 1: same halftone, 2: one halftone below \n",
    "# Limit to NUM_CLASSES. If the difference is greater, shift the voice by octaves.\n",
    "def noteDifference(melody, voice):\n",
    "    diff = melody - voice\n",
    "    if diff < 0:  raise Exception(\"Error: voice above melody\")\n",
    "    # -1 for adding 1 below, additionl -1 so that diff can be index \n",
    "    while (diff > NUM_CLASSES - 2):\n",
    "        diff -= 12\n",
    "    return diff + 1"
   ]
  },
  {
   "cell_type": "code",
   "execution_count": 29,
   "metadata": {
    "collapsed": true
   },
   "outputs": [],
   "source": [
    "def extractVoices(melody, music):\n",
    "    for partIndex in range(1, len(music.parts)):\n",
    "        partNotes = music.parts[partIndex].flat.notes\n",
    "        noteIndex = 0;\n",
    "        maxNoteIndex = len(partNotes)\n",
    "        \n",
    "        for n in melody:\n",
    "            #print(n)\n",
    "            currentOffset = n[0]\n",
    "            if (noteIndex < maxNoteIndex):\n",
    "                voiceNote = partNotes[noteIndex]\n",
    "                if (voiceNote.offset + voiceNote.duration.quarterLength <= currentOffset):\n",
    "                    # skip to next note\n",
    "                    noteIndex += 1\n",
    "            if (noteIndex < maxNoteIndex):                \n",
    "                voiceNote = partNotes[noteIndex]\n",
    "                if (voiceNote.offset == currentOffset):\n",
    "                    # new note\n",
    "                    n.append(noteDifference(n[1], voiceNote.pitch.midi))\n",
    "                    n.append(1)\n",
    "                elif (voiceNote.offset < currentOffset):\n",
    "                    # continuing note\n",
    "                    n.append(noteDifference(n[1], voiceNote.pitch.midi))\n",
    "                    n.append(0)\n",
    "                else:\n",
    "                    # between notes or behind last note, fill with empty \n",
    "                    n.append(0)\n",
    "                    n.append(1)"
   ]
  },
  {
   "cell_type": "code",
   "execution_count": 30,
   "metadata": {},
   "outputs": [
    {
     "name": "stdout",
     "output_type": "stream",
     "text": [
      "  1: bach/bwv153.1: a minor, 4, 4 voices, duration: 56.0\n"
     ]
    }
   ],
   "source": [
    "songs = []\n",
    "streams = []\n",
    "for name in corpus.chorales.Iterator(1, 3, returnType='filename'):\n",
    "    song = corpus.parse(name)\n",
    "    key = song.analyze('key')\n",
    "    highestTime = song.highestTime\n",
    "    if len(song.parts) == 4 and highestTime < 68: \n",
    "        # and song.parts[0].flat.getTimeSignatures()[0].numerator == 3 and key.mode == 'major' \n",
    "        \n",
    "        song.transpose(song.analyze('key').sharps, inPlace = True)\n",
    "        #song.show()\n",
    "        try:\n",
    "            notes = extractMelody(song)\n",
    "            extractVoices(notes, song)\n",
    "            songs.append(notes)\n",
    "            streams.append(song)\n",
    "            print('%3d: %s: %s, %d, %s voices, duration: %s' % (\n",
    "                len(songs), name, key, song.parts[0].flat.getTimeSignatures()[0].numerator, len(song.parts), highestTime))\n",
    "            #song.show()\n",
    "            #song.show('midi')\n",
    "            \n",
    "        except Exception as E:\n",
    "            print(E)\n",
    "            print(\"Error: %s not expected format, ignored\" % name)\n",
    "    #print(notes)"
   ]
  },
  {
   "cell_type": "code",
   "execution_count": 31,
   "metadata": {},
   "outputs": [
    {
     "name": "stdout",
     "output_type": "stream",
     "text": [
      "1\n"
     ]
    }
   ],
   "source": [
    "print(len(songs))"
   ]
  },
  {
   "cell_type": "code",
   "execution_count": 88,
   "metadata": {
    "collapsed": true
   },
   "outputs": [],
   "source": [
    "def createStream(music, numVoices=4):\n",
    "    sc = stream.Score()\n",
    "    notes = []\n",
    "    for v in range(0, numVoices):\n",
    "        sc.insert(0, stream.Part())\n",
    "        notes.append(None)\n",
    "\n",
    "    melodyPitchIndex = 1\n",
    "        \n",
    "    for tick in music:\n",
    "        for voice in range (0, numVoices):\n",
    "            part = sc.parts[voice]\n",
    "            pitchIndex = 1 + voice * 2\n",
    "            strikeIndex = 1 + voice * 2 + 1\n",
    "            # extend note\n",
    "            if notes[voice] != None and tick[strikeIndex] == 0:\n",
    "                notes[voice].quarterLength += TIME_TICK\n",
    "            \n",
    "            if tick[strikeIndex] == 1:\n",
    "                if (tick[pitchIndex]) > 0:\n",
    "                    #create new note\n",
    "                    n = note.Note()\n",
    "                    notes[voice] = n\n",
    "                    n.offset = tick[0]\n",
    "                    if (voice == 0):\n",
    "                        #melody voice\n",
    "                        n.pitch.midi = tick[pitchIndex]\n",
    "                    else:\n",
    "                        #other voices relative to melody\n",
    "                        n.pitch.midi = tick[pitchIndex] + 1\n",
    "                    n.quarterLength = TIME_TICK\n",
    "                    part.append(n)\n",
    "                else:\n",
    "                    n = note.Rest()\n",
    "                    notes[voice] = n\n",
    "                    n.offset = tick[0]\n",
    "                    n.quarterLength = TIME_TICK\n",
    "                    part.append(n)\n",
    "    return sc\n",
    "    \n",
    "                        "
   ]
  },
  {
   "cell_type": "code",
   "execution_count": 89,
   "metadata": {},
   "outputs": [
    {
     "name": "stdout",
     "output_type": "stream",
     "text": [
      "max sequence length:  224\n",
      "num samples:  1\n",
      "data:  (1, 224, 2)\n",
      "target:  (1, 224, 6)\n"
     ]
    }
   ],
   "source": [
    "\n",
    "def read_dataset(songs, NUM_VOICES = 4):\n",
    "    seq_length = []\n",
    "    for song in songs: seq_length.append(len(song))\n",
    "    max_seq_length = max(seq_length)\n",
    "\n",
    "    print(\"max sequence length: \", max_seq_length)\n",
    "    \n",
    "    m = len(songs)  \n",
    "    print(\"num samples: \", m)\n",
    "    X=[]\n",
    "    Y=[]\n",
    "    for sg in songs:\n",
    "        x=[]\n",
    "        y=[]\n",
    "        #print(sg)\n",
    "        for tick in sg:\n",
    "            #print(tick)\n",
    "            # add melody\n",
    "            x.append([tick[1], tick[2]])\n",
    "           \n",
    "            voices = []\n",
    "            # write voice pitch\n",
    "            for voice in range(NUM_VOICES - 1):\n",
    "                voice_index = 3 + voice * 2\n",
    "                #print(oneHot)\n",
    "                voices.append(tick[voice_index] + tick[1])\n",
    "            # write voice strike\n",
    "            for voice in range(NUM_VOICES - 1):\n",
    "                voice_index = 3 + voice * 2 + 1\n",
    "                #print(oneHot)\n",
    "                voices.append(tick[voice_index])\n",
    "            y.append(voices)\n",
    "            #print(\"%s: %s -> %s\" % (tick[0], tick[3], oneHot))\n",
    "        # pad songs\n",
    "        padding_length = max_seq_length - len(x)\n",
    "        #print(\"padding:\", padding_length)\n",
    "        for i in range (0, padding_length):\n",
    "            x.append([0] * 2)\n",
    "            voices = []\n",
    "            for voice in range(NUM_VOICES - 1):\n",
    "                voices.append(np.zeros(2))\n",
    "            y.append(voices)\n",
    "        X.append(x)\n",
    "        Y.append(y)   \n",
    "    #print(Y[0])\n",
    "    data = np.array(X)\n",
    "    print(\"data: \", data.shape)\n",
    "    target = np.array(Y)\n",
    "    print(\"target: \", target.shape)\n",
    "    dataset = {'data': data , 'target' : target, 'seq_length' : np.array(seq_length)}\n",
    "    return dataset\n",
    "\n",
    "train = read_dataset(songs)\n"
   ]
  },
  {
   "cell_type": "code",
   "execution_count": 125,
   "metadata": {
    "collapsed": true
   },
   "outputs": [],
   "source": [
    "from music21 import midi\n",
    "def export_dataset(inSongs, prediction, NUM_VOICES = 4, strike_probability = 0.7):\n",
    "    predSongs = []\n",
    "    for i in range(0, min(len(inSongs), len(prediction))):\n",
    "        song = []\n",
    "        currentTime = 0.\n",
    "        melody = inSongs[i]\n",
    "        voices = prediction[i]\n",
    "        predPitches = [0] * (NUM_VOICES - 1)\n",
    "        predMelody = 0\n",
    "        for tickNum in range(min(len(melody), len(voices))):\n",
    "            tick = [currentTime, melody[tickNum][1], melody[tickNum][2]]\n",
    "            for voice in range(NUM_VOICES - 1):\n",
    "                predPitch = predPitches[voice]\n",
    "                newPitch = voices[tickNum, voice]\n",
    "                strike = voices[tickNum, voice + NUM_VOICES - 1] > strike_probability\n",
    "                if not strike and predPitch > 0:\n",
    "                    # if no strike than note cannot change\n",
    "                    pitch = predPitch                \n",
    "                else: pitch = newPitch\n",
    "                tick.append(pitch)\n",
    "                tick.append(strike)\n",
    "                predPitches[voice] = pitch\n",
    "            predMelody = melody[tickNum][1]\n",
    "            #print(tick)\n",
    "            song.append(tick)\n",
    "            currentTime += TIME_TICK\n",
    "        predSongs.append(song)\n",
    "    return predSongs\n"
   ]
  },
  {
   "cell_type": "code",
   "execution_count": 128,
   "metadata": {},
   "outputs": [
    {
     "name": "stdout",
     "output_type": "stream",
     "text": [
      "sequence length:  224\n"
     ]
    }
   ],
   "source": [
    "\n",
    "predSongPieces = []\n",
    "output = np.ndarray(shape=(1, 0, 6),  dtype=float)\n",
    "print(\"sequence length: \", len(train['data'][0]))\n",
    "for tick in range(len(train['data'][0])):\n",
    "    tick_data = train['data'][0, tick]\n",
    "    output_step, _ = sess.run([model.output, model.update_state], {\n",
    "        data: tick_data})\n",
    "    output = np.concatenate((output, output_step.reshape([1, 1, -1])), axis = 1)\n",
    "    predSongPiece = export_dataset(songs, output)\n",
    "    predSongPieces.append(predSongPiece[0])\n",
    "        "
   ]
  },
  {
   "cell_type": "code",
   "execution_count": 132,
   "metadata": {
    "scrolled": true
   },
   "outputs": [
    {
     "data": {
      "image/png": "[encoded data removed]",
      "text/plain": [
       "<IPython.core.display.Image object>"
      ]
     },
     "metadata": {
      "image/png": {
       "height": 263,
       "width": 273
      }
     },
     "output_type": "display_data"
    },
    {
     "data": {
      "text/html": [
       "\n",
       "                <div id='midiPlayerDiv46425'></div>\n",
       "                <link rel=\"stylesheet\" href=\"http://artusi.xyz/music21j/css/m21.css\"\n",
       "                    type=\"text/css\" />\n",
       "                <script>\n",
       "                require.config({\n",
       "                    paths: {'music21': 'http://artusi.xyz/music21j/src/music21'}\n",
       "                });\n",
       "                require(['music21'], function() {\n",
       "                               mp = new music21.miditools.MidiPlayer();\n",
       "                               mp.addPlayer('#midiPlayerDiv46425');\n",
       "                               mp.base64Load('data:audio/midi;base64,TVRoZAAAAAYAAQAEBABNVHJrAAAAMgD/AwAA4ABAiACQR1qIAIBHAACQSFqIAIBIAACQR1qIAIBHAACQRVqIAIBFAIgA/y8ATVRyawAAADIA/wMAAOAAQIgAkEJaiACAQgAAkEVaiACARQAAkENaiACAQwAAkEVaiACARQCIAP8vAE1UcmsAAAAyAP8DAADgAECIAJA7WogAgDsAAJA5WogAgDkAAJBAWogAgEAAAJA+WogAgD4AiAD/LwBNVHJrAAAAMgD/AwAA4ABAiACQM1qIAIAzAACQOVqIAIA5AACQNFqIAIA0AACQNlqIAIA2AIgA/y8A');\n",
       "                        });\n",
       "                </script>"
      ],
      "text/plain": [
       "<IPython.core.display.HTML object>"
      ]
     },
     "metadata": {},
     "output_type": "display_data"
    }
   ],
   "source": [
    "songNum = 15 # song containing the first 16 ticks - the first measure\n",
    "sc = createStream(predSongPieces[songNum], 4)\n",
    "sc.show()\n",
    "sc.show('midi')\n"
   ]
  },
  {
   "cell_type": "code",
   "execution_count": null,
   "metadata": {
    "collapsed": true
   },
   "outputs": [],
   "source": []
  }
 ],
 "metadata": {
  "kernelspec": {
   "display_name": "Python 3",
   "language": "python",
   "name": "python3"
  },
  "language_info": {
   "codemirror_mode": {
    "name": "ipython",
    "version": 3
   },
   "file_extension": ".py",
   "mimetype": "text/x-python",
   "name": "python",
   "nbconvert_exporter": "python",
   "pygments_lexer": "ipython3",
   "version": "3.6.3"
  }
 },
 "nbformat": 4,
 "nbformat_minor": 2
}
