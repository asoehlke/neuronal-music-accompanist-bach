{
 "cells": [
  {
   "cell_type": "code",
   "execution_count": 2,
   "metadata": {
    "collapsed": true
   },
   "outputs": [],
   "source": [
    "from music21 import corpus, stream, note\n",
    "import tensorflow as tf\n",
    "import math\n",
    "import random\n",
    "import functools\n",
    "import numpy as np"
   ]
  },
  {
   "cell_type": "code",
   "execution_count": 3,
   "metadata": {
    "collapsed": true
   },
   "outputs": [],
   "source": [
    "# numbeer of voices\n",
    "NUM_VOICES = 4\n",
    "\n",
    "#number of output classes, i.e. half tone differences to melody\n",
    "NUM_CLASSES = 26\n",
    "\n",
    "# duration of time tick in beats. 1=quarter, 0.25=16th \n",
    "TIME_TICK = 0.25"
   ]
  },
  {
   "cell_type": "code",
   "execution_count": 4,
   "metadata": {
    "collapsed": true
   },
   "outputs": [],
   "source": [
    "def extractMelody(music):\n",
    "    min_midi = 256\n",
    "    max_midi = 0\n",
    "    melody = []\n",
    "    currentOffset = 0\n",
    "    for n in music.parts[0].flat.notes:\n",
    "        #print(\"%s: %s %s %s\" % (n.pitch.midi, n.pitch, n.offset, n.duration.quarterLength))\n",
    "        while (n.offset > currentOffset):\n",
    "            # insert breaks\n",
    "            melody.append([currentOffset, 0, 1])\n",
    "            currentOffset += TIME_TICK;\n",
    "        noteTicks = math.floor(n.duration.quarterLength / TIME_TICK)\n",
    "        min_midi = min(min_midi, n.pitch.midi)\n",
    "        max_midi = max(max_midi, n.pitch.midi)\n",
    "        for ticks in range(0, noteTicks):\n",
    "            if (ticks == 0):\n",
    "                melody.append([currentOffset, n.pitch.midi, 1])\n",
    "            else:\n",
    "                melody.append([currentOffset, n.pitch.midi, 0])\n",
    "            currentOffset += TIME_TICK;\n",
    "    #print(\"Melody min/max midi pitch: %d/%d\" % (min_midi, max_midi))\n",
    "    return melody"
   ]
  },
  {
   "cell_type": "code",
   "execution_count": 5,
   "metadata": {
    "collapsed": true
   },
   "outputs": [],
   "source": [
    "# calculate difference between melody and voice in halftones. 1: same halftone, 2: one halftone below \n",
    "# Limit to NUM_CLASSES. If the difference is greater, shift the voice by octaves.\n",
    "def noteDifference(melody, voice):\n",
    "    diff = melody - voice\n",
    "    if diff < 0:  raise Exception(\"Error: voice above melody\")\n",
    "    # -1 for adding 1 below, additionl -1 so that diff can be index \n",
    "    while (diff > NUM_CLASSES - 2):\n",
    "        diff -= 12\n",
    "    return diff + 1"
   ]
  },
  {
   "cell_type": "code",
   "execution_count": 6,
   "metadata": {
    "collapsed": true
   },
   "outputs": [],
   "source": [
    "def extractVoices(melody, music):\n",
    "    for partIndex in range(1, len(music.parts)):\n",
    "        partNotes = music.parts[partIndex].flat.notes\n",
    "        noteIndex = 0;\n",
    "        maxNoteIndex = len(partNotes)\n",
    "        \n",
    "        for n in melody:\n",
    "            #print(n)\n",
    "            currentOffset = n[0]\n",
    "            if (noteIndex < maxNoteIndex):\n",
    "                voiceNote = partNotes[noteIndex]\n",
    "                if (voiceNote.offset + voiceNote.duration.quarterLength <= currentOffset):\n",
    "                    # skip to next note\n",
    "                    noteIndex += 1\n",
    "            if (noteIndex < maxNoteIndex):                \n",
    "                voiceNote = partNotes[noteIndex]\n",
    "                if (voiceNote.offset == currentOffset):\n",
    "                    # new note\n",
    "                    n.append(noteDifference(n[1], voiceNote.pitch.midi))\n",
    "                    n.append(1)\n",
    "                elif (voiceNote.offset < currentOffset):\n",
    "                    # continuing note\n",
    "                    n.append(noteDifference(n[1], voiceNote.pitch.midi))\n",
    "                    n.append(0)\n",
    "                else:\n",
    "                    # between notes or behind last note, fill with empty \n",
    "                    n.append(0)\n",
    "                    n.append(1)"
   ]
  },
  {
   "cell_type": "code",
   "execution_count": 9,
   "metadata": {},
   "outputs": [
    {
     "name": "stdout",
     "output_type": "stream",
     "text": [
      "  1: bach/bwv153.1: a minor, 4, 4 voices, duration: 56.0\n"
     ]
    }
   ],
   "source": [
    "songs = []\n",
    "streams = []\n",
    "for name in corpus.chorales.Iterator(1, 3, returnType='filename'):\n",
    "    song = corpus.parse(name)\n",
    "    key = song.analyze('key')\n",
    "    highestTime = song.highestTime\n",
    "    if len(song.parts) == 4 and highestTime < 68: \n",
    "        # and song.parts[0].flat.getTimeSignatures()[0].numerator == 3 and key.mode == 'major' \n",
    "        \n",
    "        song.transpose(song.analyze('key').sharps, inPlace = True)\n",
    "        #song.show()\n",
    "        try:\n",
    "            notes = extractMelody(song)\n",
    "            extractVoices(notes, song)\n",
    "            songs.append(notes)\n",
    "            streams.append(song)\n",
    "            print('%3d: %s: %s, %d, %s voices, duration: %s' % (\n",
    "                len(songs), name, key, song.parts[0].flat.getTimeSignatures()[0].numerator, len(song.parts), highestTime))\n",
    "            #song.show()\n",
    "            #song.show('midi')\n",
    "            \n",
    "        except Exception as E:\n",
    "            print(E)\n",
    "            print(\"Error: %s not expected format, ignored\" % name)\n",
    "    #print(notes)"
   ]
  },
  {
   "cell_type": "code",
   "execution_count": 10,
   "metadata": {},
   "outputs": [
    {
     "name": "stdout",
     "output_type": "stream",
     "text": [
      "1\n"
     ]
    }
   ],
   "source": [
    "print(len(songs))"
   ]
  },
  {
   "cell_type": "code",
   "execution_count": 11,
   "metadata": {
    "collapsed": true
   },
   "outputs": [],
   "source": [
    "def createStream(music, numVoices=4):\n",
    "    sc = stream.Score()\n",
    "    notes = []\n",
    "    for v in range(0, numVoices):\n",
    "        sc.insert(0, stream.Part())\n",
    "        notes.append(None)\n",
    "\n",
    "    melodyPitchIndex = 1\n",
    "        \n",
    "    for tick in music:\n",
    "        for voice in range (0, numVoices):\n",
    "            part = sc.parts[voice]\n",
    "            pitchIndex = 1 + voice * 2\n",
    "            attackIndex = 1 + voice * 2 + 1\n",
    "            # extend note\n",
    "            if notes[voice] != None and tick[attackIndex] == 0:\n",
    "                notes[voice].quarterLength += TIME_TICK\n",
    "            \n",
    "            if tick[attackIndex] == 1:\n",
    "                if (tick[pitchIndex]) > 0:\n",
    "                    #create new note\n",
    "                    n = note.Note()\n",
    "                    notes[voice] = n\n",
    "                    n.offset = tick[0]\n",
    "                    if (voice == 0):\n",
    "                        #melody voice\n",
    "                        n.pitch.midi = tick[pitchIndex]\n",
    "                    else:\n",
    "                        #other voices relative to melody\n",
    "                        n.pitch.midi = tick[melodyPitchIndex] - tick[pitchIndex] + 1\n",
    "                    n.quarterLength = TIME_TICK\n",
    "                    part.append(n)\n",
    "                else:\n",
    "                    n = note.Rest()\n",
    "                    notes[voice] = n\n",
    "                    n.offset = tick[0]\n",
    "                    n.quarterLength = TIME_TICK\n",
    "                    part.append(n)\n",
    "    return sc\n",
    "    \n",
    "                        "
   ]
  },
  {
   "cell_type": "code",
   "execution_count": 166,
   "metadata": {},
   "outputs": [
    {
     "name": "stdout",
     "output_type": "stream",
     "text": [
      "max sequence length:  224\n",
      "num samples:  1\n",
      "data:  (1, 224, 27)\n",
      "target:  (1, 224, 3, 27)\n",
      "prediction_voices: (1, 1, 3, 26)\n",
      "prediction_attack: (1, 1, 3, 1)\n",
      "prediction: (1, 1, 3, 27)\n"
     ]
    }
   ],
   "source": [
    "# https://gist.github.com/danijar/61f9226f7ea498abce36187ddaf51ed5\n",
    "# Example for my blog post at:\n",
    "# http://danijar.com/introduction-to-recurrent-networks-in-tensorflow/\n",
    "import functools\n",
    "import tensorflow as tf\n",
    "\n",
    "from tensorflow.python.util.nest import flatten\n",
    "\n",
    "\n",
    "def rnn_placeholders(state):\n",
    "    \"\"\"Convert RNN state tensors to placeholders with the zero state as default.\"\"\"\n",
    "    if isinstance(state, tf.contrib.rnn.LSTMStateTuple):\n",
    "        c, h = state\n",
    "        c = tf.placeholder_with_default(c, c.shape, c.op.name)\n",
    "        h = tf.placeholder_with_default(h, h.shape, h.op.name)\n",
    "        return tf.contrib.rnn.LSTMStateTuple(c, h)\n",
    "    elif isinstance(state, tf.Tensor):\n",
    "        h = state\n",
    "        h = tf.placeholder_with_default(h, h.shape, h.op.name)\n",
    "        return h\n",
    "    else:\n",
    "        structure = [rnn_placeholders(x) for x in state]\n",
    "        return tuple(structure)\n",
    "    \n",
    "# for state_is_tuple = True, currently does not work with undefined batch size\n",
    "def get_state_variables(batch_size, cell):\n",
    "    # For each layer, get the initial state and make a variable out of it\n",
    "    # to enable updating its value.\n",
    "    state_variables = []\n",
    "    for state_c, state_h in cell.zero_state(batch_size, tf.float32):\n",
    "        state_variables.append(tf.contrib.rnn.LSTMStateTuple(\n",
    "            tf.Variable(state_c, trainable=False, name=\"rnn_state_c_%d\" % (len(state_variables))),\n",
    "            tf.Variable(state_h, trainable=False, name=\"rnn_state_h_%d\" % (len(state_variables)))))\n",
    "    # Return as a tuple, so that it can be fed to dynamic_rnn as an initial state\n",
    "    return tuple(state_variables)\n",
    "\n",
    "\n",
    "def get_state_update_op(state_variables, new_states):\n",
    "    # Add an operation to update the train states with the last state tensors\n",
    "    update_ops = []\n",
    "    for state_variable, new_state in zip(state_variables, new_states):\n",
    "        # Assign the new state to the state variables on this layer\n",
    "        update_ops.extend([state_variable[0].assign(new_state[0]),\n",
    "                           state_variable[1].assign(new_state[1])])\n",
    "    # Return a tuple in order to combine all update_ops into a single operation.\n",
    "    # The tuple's actual value should not be used.\n",
    "    return tf.tuple(update_ops)\n",
    "\n",
    "def lazy_property(function):\n",
    "    attribute = '_' + function.__name__\n",
    "\n",
    "    @property\n",
    "    @functools.wraps(function)\n",
    "    def wrapper(self):\n",
    "        if not hasattr(self, attribute):\n",
    "            setattr(self, attribute, function(self))\n",
    "        return getattr(self, attribute)\n",
    "    return wrapper\n",
    "\n",
    "\n",
    "class SequenceLabelling:\n",
    "\n",
    "    def __init__(self, data, target, seq_length=1, num_hidden=200, num_layers=1, NUM_VOICES = 4):\n",
    "        self.data = data\n",
    "        self.target = target\n",
    "        self._num_hidden = num_hidden\n",
    "        self._num_layers = num_layers\n",
    "        self.seq_length = seq_length\n",
    "        self.prediction\n",
    "        self.update_state\n",
    "\n",
    "    @lazy_property\n",
    "    def prediction(self):\n",
    "        # Recurrent network.\n",
    "        cells = []\n",
    "        for layer in range (0, self._num_layers):\n",
    "            #cells.append(tf.nn.rnn_cell.BasicLSTMCell(self._num_hidden, state_is_tuple = True)) # or GRUCell)\n",
    "            cells.append(tf.nn.rnn_cell.LSTMCell(self._num_hidden, state_is_tuple = True, use_peepholes=True))\n",
    "        \n",
    "        network = tf.contrib.rnn.MultiRNNCell(cells, state_is_tuple = True)\n",
    "        #network = tf.contrib.rnn.GRUCell(self._num_hidden)\n",
    "        \n",
    "        # if state_is_tuple = True, does only work with defined batch size\n",
    "        state = get_state_variables(data.shape[0], network)\n",
    "        #state = tf.Variable(network.zero_states(data.shape[0], tf.float32), trainable=False)\n",
    "        \n",
    "        #state = rnn_placeholders(network.zero_state(1, tf.float32))\n",
    "\n",
    "        output, new_state = tf.nn.dynamic_rnn(network, data, dtype=tf.float32, initial_state = state)\n",
    "        \n",
    "        # Softmax layer for voices\n",
    "        max_length = int(self.target.get_shape()[1])\n",
    "        weight, bias = self._weight_and_bias(self._num_hidden, NUM_CLASSES * (NUM_VOICES - 1))\n",
    "        # Flatten to apply same weights to all time steps.\n",
    "        output = tf.reshape(output, [-1, self._num_hidden])\n",
    "        prediction_voices = tf.matmul(output, weight) + bias\n",
    "        prediction_voices = tf.nn.softmax(tf.reshape(prediction_voices, [-1, max_length, (NUM_VOICES - 1), NUM_CLASSES]))\n",
    "        print(\"prediction_voices:\", prediction_voices.shape)\n",
    "        \n",
    "        # attack layer for voices: 1 \n",
    "        weight, bias = self._weight_and_bias(self._num_hidden, NUM_VOICES - 1)\n",
    "        prediction_attack = tf.sigmoid(tf.reshape(tf.matmul(output, weight) + bias, [-1, max_length, NUM_VOICES - 1, 1]))\n",
    "        print(\"prediction_attack:\", prediction_attack.shape)\n",
    "        \n",
    "        prediction = tf.concat(axis = 3, values = [prediction_voices, prediction_attack])\n",
    "        print(\"prediction:\", prediction.shape)\n",
    "        \n",
    "        # Add an operation to update the train states with the last state tensors.\n",
    "        self.update_state = get_state_update_op(state, new_state)        \n",
    "        \n",
    "        return prediction\n",
    "\n",
    "    @staticmethod\n",
    "    def _weight_and_bias(in_size, out_size):\n",
    "        weight = tf.truncated_normal([in_size, out_size], stddev=0.01)\n",
    "        bias = tf.constant(0.1, shape=[out_size])\n",
    "        return tf.Variable(weight), tf.Variable(bias)\n",
    "\n",
    "\n",
    "def read_dataset(songs, NUM_VOICES = 4):\n",
    "    seq_length = []\n",
    "    for song in songs: seq_length.append(len(song))\n",
    "    max_seq_length = max(seq_length)\n",
    "\n",
    "    print(\"max sequence length: \", max_seq_length)\n",
    "    \n",
    "    m = len(songs)  \n",
    "    print(\"num samples: \", m)\n",
    "    X=[]\n",
    "    Y=[]\n",
    "    for sg in songs:\n",
    "        x=[]\n",
    "        y=[]\n",
    "        #print(sg)\n",
    "        for tick in sg:\n",
    "            #print(tick)\n",
    "            melody = []\n",
    "            # encode as halftones (2 octaves) above C-3 (59)\n",
    "            oneHot = np.zeros(NUM_CLASSES)\n",
    "            pitch = tick[1]\n",
    "            # one-hot encode the pitch. A break is empty.\n",
    "            if (pitch >= 59 and pitch < 83):\n",
    "                oneHot[tick[1] - 59] = 1\n",
    "            elif pitch != 0:\n",
    "                print(pitch)\n",
    "            \n",
    "            # add attack\n",
    "            melody = np.append(oneHot, tick[2])\n",
    "            \n",
    "            x.append(melody)\n",
    "            \n",
    "            voices = []\n",
    "            for voice in range(NUM_VOICES - 1):\n",
    "                voice_index = 3 + voice * 2\n",
    "                oneHot = np.zeros(NUM_CLASSES)\n",
    "                #print(tick)\n",
    "                oneHot[tick[voice_index]] = 1\n",
    "                # add attack\n",
    "                voiceCode = np.append(oneHot, tick[voice_index + 1])\n",
    "                #print(oneHot)\n",
    "                voices.append(voiceCode)\n",
    "            y.append(voices)\n",
    "            #print(\"%s: %s -> %s\" % (tick[0], tick[3], oneHot))\n",
    "        # pad songs\n",
    "        padding_length = max_seq_length - len(x)\n",
    "        #print(\"padding:\", padding_length)\n",
    "        for i in range (0, padding_length):\n",
    "            x.append([0] * (NUM_CLASSES + 1))\n",
    "            voices = []\n",
    "            for voice in range(NUM_VOICES - 1):\n",
    "                voices.append(np.zeros(NUM_CLASSES + 1))\n",
    "            y.append(voices)\n",
    "        X.append(x)\n",
    "        Y.append(y)   \n",
    "    #print(Y[0])\n",
    "    data = np.array(X)\n",
    "    print(\"data: \", data.shape)\n",
    "    target = np.array(Y)\n",
    "    print(\"target: \", target.shape)\n",
    "    dataset = {'data': data , 'target' : target, 'seq_length' : np.array(seq_length)}\n",
    "    train, test = dataset, dataset#sets.Split(0.66)(dataset)\n",
    "    return train, test\n",
    "\n",
    "\n",
    "if __name__ == '__main__':\n",
    "    tf.reset_default_graph()\n",
    "    train, test = read_dataset(songs)\n",
    "    length = 1\n",
    "    input_size = train['data'].shape[2]\n",
    "    data = tf.placeholder(tf.float32, [1, length, input_size])\n",
    "    target = tf.placeholder(tf.float32, [1, length, NUM_VOICES - 1, NUM_CLASSES + 1])\n",
    "    seq_length = tf.placeholder(tf.float32, [1])\n",
    "    model = SequenceLabelling(data, target, num_hidden = 300, num_layers=3)\n",
    "    sess = tf.Session()\n",
    "    #sess.run(tf.initialize_all_variables())\n",
    "    sess.run(tf.global_variables_initializer())"
   ]
  },
  {
   "cell_type": "code",
   "execution_count": 167,
   "metadata": {},
   "outputs": [
    {
     "name": "stdout",
     "output_type": "stream",
     "text": [
      "INFO:tensorflow:Restoring parameters from /home/lucky/models/208songsMajorMinor-2\n"
     ]
    }
   ],
   "source": [
    "train_saver = tf.train.Saver(tf.trainable_variables())\n",
    "train_saver.restore(sess, \"/home/lucky/models/208songsMajorMinor-2\")\n"
   ]
  },
  {
   "cell_type": "code",
   "execution_count": 168,
   "metadata": {
    "collapsed": true
   },
   "outputs": [],
   "source": [
    "from music21 import midi\n",
    "def export_dataset(inSongs, prediction, NUM_VOICES = 4, smooth_probability = 1, attack_probability = 0.7):\n",
    "    predSongs = []\n",
    "    for i in range(0, min(len(inSongs), len(prediction))):\n",
    "        song = []\n",
    "        currentTime = 0.\n",
    "        melody = inSongs[i]\n",
    "        voices = prediction[i]\n",
    "        predPitches = [0] * (NUM_VOICES - 1)\n",
    "        predMelody = 0\n",
    "        for tickNum in range(min(len(melody), len(voices))):\n",
    "            tick = [currentTime, melody[tickNum][1], melody[tickNum][2]]\n",
    "            for voice in range(NUM_VOICES - 1):\n",
    "                predPitch = predPitches[voice]\n",
    "                newPitch = np.argmax(voices[tickNum, voice, :NUM_CLASSES - 1])\n",
    "                attack = voices[tickNum, voice, NUM_CLASSES] > attack_probability\n",
    "                if (voices[tickNum, voice, predPitch] > smooth_probability):\n",
    "                    # if old pitch still has high probability, prefer to continue note\n",
    "                    pitch = predPitch\n",
    "                elif not attack:\n",
    "                    # if no attack than note cannot change\n",
    "                    pitch = predPitch                \n",
    "                else: pitch = newPitch\n",
    "                #print(\"pred %d / %2.2f  new %d / %2.2f -> %d\" % \\\n",
    "                #      (predPitch, voices[tickNum, voice, predPitch], newPitch, voices[tickNum, voice, newPitch], pitch))\n",
    "                \n",
    "                #attack = 1\n",
    "                #if (predMelody - predPitch == melody[tickNum][1] - pitch):\n",
    "                #    attack = 0\n",
    "                tick.append(pitch)\n",
    "                tick.append(attack)\n",
    "                predPitches[voice] = pitch\n",
    "            predMelody = melody[tickNum][1]\n",
    "            #print(tick)\n",
    "            song.append(tick)\n",
    "            currentTime += TIME_TICK\n",
    "        predSongs.append(song)\n",
    "    return predSongs\n"
   ]
  },
  {
   "cell_type": "code",
   "execution_count": 169,
   "metadata": {},
   "outputs": [
    {
     "name": "stdout",
     "output_type": "stream",
     "text": [
      "sequence length:  224\n"
     ]
    }
   ],
   "source": [
    "\n",
    "predSongPieces = []\n",
    "tick_seq_length = [1]\n",
    "prediction = np.ndarray(shape=(1, 0, 3, 27),  dtype=float)\n",
    "print(\"sequence length: \", len(train['data'][0]))\n",
    "for tick in range(len(train['data'][0])):\n",
    "    tick_data = train['data'][0:1, tick : tick + 1]\n",
    "    #print(tick_data)\n",
    "    #print(len(tick_data[0]))\n",
    "    prediction_step, _ = sess.run([model.prediction, model.update_state], {\n",
    "        #data: test['data'], target: test['target'], seq_length: test['seq_length']})\n",
    "        data: tick_data, seq_length: tick_seq_length})\n",
    "    prediction = np.concatenate((prediction, prediction_step), axis = 1)\n",
    "    #print(prediction.shape)\n",
    "    predSongPiece = export_dataset(songs, prediction, attack_probability = 0.5)\n",
    "    predSongPieces.append(predSongPiece[0])\n",
    "\n",
    "#print(predSongPieces)\n",
    "        "
   ]
  },
  {
   "cell_type": "code",
   "execution_count": 171,
   "metadata": {
    "scrolled": false
   },
   "outputs": [
    {
     "data": {
      "image/png": "[encoded data removed]",
      "text/plain": [
       "<IPython.core.display.Image object>"
      ]
     },
     "metadata": {
      "image/png": {
       "height": 263,
       "width": 300
      }
     },
     "output_type": "display_data"
    },
    {
     "data": {
      "text/html": [
       "\n",
       "                <div id='midiPlayerDiv170013'></div>\n",
       "                <link rel=\"stylesheet\" href=\"http://artusi.xyz/music21j/css/m21.css\"\n",
       "                    type=\"text/css\" />\n",
       "                <script>\n",
       "                require.config({\n",
       "                    paths: {'music21': 'http://artusi.xyz/music21j/src/music21'}\n",
       "                });\n",
       "                require(['music21'], function() {\n",
       "                               mp = new music21.miditools.MidiPlayer();\n",
       "                               mp.addPlayer('#midiPlayerDiv170013');\n",
       "                               mp.base64Load('data:audio/midi;base64,TVRoZAAAAAYAAQAEBABNVHJrAAAAOwD/AwAA4ABAiACQR1qIAIBHAACQSFqIAIBIAACQR1qIAIBHAACQRVqIAIBFAACQTFqCAIBMAIgA/y8ATVRyawAAADsA/wMAAOAAQIgAkERaiACARAAAkEVaiACARQAAkERaiACARAAAkEVaiACARQAAkERaggCARACIAP8vAE1UcmsAAAA7AP8DAADgAECIAJBAWogAgEAAAJBAWogAgEAAAJA+WogAgD4AAJBAWogAgEAAAJA+WoIAgD4AiAD/LwBNVHJrAAAAOwD/AwAA4ABAiACQNFqIAIA0AACQOVqIAIA5AACQO1qIAIA7AACQPFqIAIA8AACQO1qCAIA7AIgA/y8A');\n",
       "                        });\n",
       "                </script>"
      ],
      "text/plain": [
       "<IPython.core.display.HTML object>"
      ]
     },
     "metadata": {},
     "output_type": "display_data"
    },
    {
     "ename": "IndexError",
     "evalue": "list index out of range",
     "output_type": "error",
     "traceback": [
      "\u001b[0;31m---------------------------------------------------------------------------\u001b[0m",
      "\u001b[0;31mIndexError\u001b[0m                                Traceback (most recent call last)",
      "\u001b[0;32m<ipython-input-171-cc9471067092>\u001b[0m in \u001b[0;36m<module>\u001b[0;34m()\u001b[0m\n\u001b[1;32m      9\u001b[0m \u001b[0;31m#sc.show('text')\u001b[0m\u001b[0;34m\u001b[0m\u001b[0;34m\u001b[0m\u001b[0m\n\u001b[1;32m     10\u001b[0m \u001b[0;34m\u001b[0m\u001b[0m\n\u001b[0;32m---> 11\u001b[0;31m \u001b[0msc\u001b[0m \u001b[0;34m=\u001b[0m \u001b[0mcreateStream\u001b[0m\u001b[0;34m(\u001b[0m\u001b[0msongs\u001b[0m\u001b[0;34m[\u001b[0m\u001b[0msongNum\u001b[0m\u001b[0;34m]\u001b[0m\u001b[0;34m,\u001b[0m \u001b[0;36m4\u001b[0m\u001b[0;34m)\u001b[0m\u001b[0;34m\u001b[0m\u001b[0m\n\u001b[0m\u001b[1;32m     12\u001b[0m \u001b[0msc\u001b[0m\u001b[0;34m.\u001b[0m\u001b[0mshow\u001b[0m\u001b[0;34m(\u001b[0m\u001b[0;34m)\u001b[0m\u001b[0;34m\u001b[0m\u001b[0m\n\u001b[1;32m     13\u001b[0m \u001b[0msc\u001b[0m\u001b[0;34m.\u001b[0m\u001b[0mshow\u001b[0m\u001b[0;34m(\u001b[0m\u001b[0;34m'midi'\u001b[0m\u001b[0;34m)\u001b[0m\u001b[0;34m\u001b[0m\u001b[0m\n",
      "\u001b[0;31mIndexError\u001b[0m: list index out of range"
     ]
    }
   ],
   "source": [
    "songNum = 16\n",
    "sc = createStream(predSongPieces[songNum], 4)\n",
    "sc.show()\n",
    "sc.show('midi')\n"
   ]
  },
  {
   "cell_type": "code",
   "execution_count": 172,
   "metadata": {},
   "outputs": [
    {
     "data": {
      "text/plain": [
       "'/home/lucky/models/BachAccompanist'"
      ]
     },
     "execution_count": 172,
     "metadata": {},
     "output_type": "execute_result"
    }
   ],
   "source": [
    "all_saver = tf.train.Saver()\n",
    "all_saver.save(sess, \"/home/lucky/models/BachAccompanist\")\n"
   ]
  },
  {
   "cell_type": "code",
   "execution_count": 165,
   "metadata": {},
   "outputs": [
    {
     "name": "stdout",
     "output_type": "stream",
     "text": [
      "<tf.Variable 'rnn_state_c_0:0' shape=(1, 300) dtype=float32_ref>\n",
      "<tf.Variable 'rnn_state_h_0:0' shape=(1, 300) dtype=float32_ref>\n",
      "<tf.Variable 'rnn_state_c_1:0' shape=(1, 300) dtype=float32_ref>\n",
      "<tf.Variable 'rnn_state_h_1:0' shape=(1, 300) dtype=float32_ref>\n",
      "<tf.Variable 'rnn_state_c_2:0' shape=(1, 300) dtype=float32_ref>\n",
      "<tf.Variable 'rnn_state_h_2:0' shape=(1, 300) dtype=float32_ref>\n",
      "<tf.Variable 'rnn/multi_rnn_cell/cell_0/lstm_cell/kernel:0' shape=(327, 1200) dtype=float32_ref>\n",
      "<tf.Variable 'rnn/multi_rnn_cell/cell_0/lstm_cell/bias:0' shape=(1200,) dtype=float32_ref>\n",
      "<tf.Variable 'rnn/multi_rnn_cell/cell_0/lstm_cell/w_f_diag:0' shape=(300,) dtype=float32_ref>\n",
      "<tf.Variable 'rnn/multi_rnn_cell/cell_0/lstm_cell/w_i_diag:0' shape=(300,) dtype=float32_ref>\n",
      "<tf.Variable 'rnn/multi_rnn_cell/cell_0/lstm_cell/w_o_diag:0' shape=(300,) dtype=float32_ref>\n",
      "<tf.Variable 'rnn/multi_rnn_cell/cell_1/lstm_cell/kernel:0' shape=(600, 1200) dtype=float32_ref>\n",
      "<tf.Variable 'rnn/multi_rnn_cell/cell_1/lstm_cell/bias:0' shape=(1200,) dtype=float32_ref>\n",
      "<tf.Variable 'rnn/multi_rnn_cell/cell_1/lstm_cell/w_f_diag:0' shape=(300,) dtype=float32_ref>\n",
      "<tf.Variable 'rnn/multi_rnn_cell/cell_1/lstm_cell/w_i_diag:0' shape=(300,) dtype=float32_ref>\n",
      "<tf.Variable 'rnn/multi_rnn_cell/cell_1/lstm_cell/w_o_diag:0' shape=(300,) dtype=float32_ref>\n",
      "<tf.Variable 'rnn/multi_rnn_cell/cell_2/lstm_cell/kernel:0' shape=(600, 1200) dtype=float32_ref>\n",
      "<tf.Variable 'rnn/multi_rnn_cell/cell_2/lstm_cell/bias:0' shape=(1200,) dtype=float32_ref>\n",
      "<tf.Variable 'rnn/multi_rnn_cell/cell_2/lstm_cell/w_f_diag:0' shape=(300,) dtype=float32_ref>\n",
      "<tf.Variable 'rnn/multi_rnn_cell/cell_2/lstm_cell/w_i_diag:0' shape=(300,) dtype=float32_ref>\n",
      "<tf.Variable 'rnn/multi_rnn_cell/cell_2/lstm_cell/w_o_diag:0' shape=(300,) dtype=float32_ref>\n",
      "<tf.Variable 'Variable:0' shape=(300, 78) dtype=float32_ref>\n",
      "<tf.Variable 'Variable_1:0' shape=(78,) dtype=float32_ref>\n",
      "<tf.Variable 'Variable_2:0' shape=(300, 3) dtype=float32_ref>\n",
      "<tf.Variable 'Variable_3:0' shape=(3,) dtype=float32_ref>\n"
     ]
    }
   ],
   "source": [
    "for i in tf.global_variables():\n",
    "    print(i)"
   ]
  },
  {
   "cell_type": "code",
   "execution_count": null,
   "metadata": {
    "collapsed": true
   },
   "outputs": [],
   "source": []
  }
 ],
 "metadata": {
  "kernelspec": {
   "display_name": "Python 3",
   "language": "python",
   "name": "python3"
  },
  "language_info": {
   "codemirror_mode": {
    "name": "ipython",
    "version": 3
   },
   "file_extension": ".py",
   "mimetype": "text/x-python",
   "name": "python",
   "nbconvert_exporter": "python",
   "pygments_lexer": "ipython3",
   "version": "3.6.3"
  }
 },
 "nbformat": 4,
 "nbformat_minor": 2
}
